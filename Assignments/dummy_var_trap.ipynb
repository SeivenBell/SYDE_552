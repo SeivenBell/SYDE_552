{
 "cells": [
  {
   "cell_type": "code",
   "execution_count": 11,
   "metadata": {},
   "outputs": [
    {
     "name": "stdout",
     "output_type": "stream",
     "text": [
      "Our dataset is:\n",
      "   Color  Price\n",
      "0    Red     10\n",
      "1  Green     15\n",
      "2   Blue     20\n",
      "3  Green     25\n",
      "4   Blue     30\n",
      "5    Red     35\n",
      "6  Green     40\n"
     ]
    }
   ],
   "source": [
    "import pandas as pd\n",
    "from sklearn.linear_model import LinearRegression\n",
    "from sklearn.model_selection import train_test_split\n",
    "\n",
    "# Creating a sample dataset\n",
    "data = {\n",
    "    \"Color\": [\"Red\", \"Green\", \"Blue\", \"Green\", \"Blue\", \"Red\", \"Green\"],\n",
    "    \"Price\": [10, 15, 20, 25, 30, 35, 40],\n",
    "}\n",
    "df = pd.DataFrame(data)\n",
    "print(f\"Our dataset is:\\n{df}\")"
   ]
  }
 ],
 "metadata": {
  "language_info": {
   "name": "python"
  }
 },
 "nbformat": 4,
 "nbformat_minor": 2
}
