{
 "cells": [
  {
   "cell_type": "code",
   "execution_count": null,
   "metadata": {},
   "outputs": [],
   "source": [
    "from spectralcluster import SpectralClusterer\n",
    "from sklearn.cluster import SpectralClustering\n",
    "from sklearn.datasets import make_blobs\n",
    "import matplotlib.pyplot as plt\n",
    "from numpy import random\n",
    "\n",
    "\n",
    "clusterer = SpectralClusterer(min_clusters=2, max_clusters=100)\n",
    "\n",
    "\n",
    "X = random.randint(1, 10, (3, 4))\n",
    "labels = clusterer.predict(X)\n",
    "print(labels)\n",
    "\n",
    "random.seed(1)\n",
    "x, _ = make_blobs(n_samples=400, centers=4, cluster_std=1.5)\n",
    "plt.scatter(x[:, 0], x[:, 1])\n",
    "plt.show()\n"
   ]
  }
 ],
 "metadata": {
  "kernelspec": {
   "display_name": "syde_522",
   "language": "python",
   "name": "python3"
  },
  "language_info": {
   "name": "python",
   "version": "3.9.18"
  }
 },
 "nbformat": 4,
 "nbformat_minor": 2
}
